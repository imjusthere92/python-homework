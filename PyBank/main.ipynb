{
 "cells": [
  {
   "cell_type": "code",
   "execution_count": 1,
   "id": "1d9de4e5-8732-4cb9-8814-ccbf9ae86636",
   "metadata": {},
   "outputs": [],
   "source": [
    "# Import Dependencies \n",
    "\n",
    "import pandas as pd\n",
    "from pathlib import Path"
   ]
  },
  {
   "cell_type": "code",
   "execution_count": 2,
   "id": "8e5c985e-92ff-43b4-8d9c-0240caacb080",
   "metadata": {},
   "outputs": [],
   "source": [
    "# Read CSV file and create Dataframe \n",
    "csv_path = Path('../Resources/budget_data.csv')\n",
    "df = pd.read_csv(csv_path)"
   ]
  },
  {
   "cell_type": "code",
   "execution_count": 3,
   "id": "cd80ac27-7583-46b1-8c58-dc16ba4bfcb7",
   "metadata": {},
   "outputs": [],
   "source": [
    "# Calculate: \n",
    "\n",
    "# Total number of months included in the Dataset \n",
    "\n",
    "df_count = df['Date'].count()"
   ]
  },
  {
   "cell_type": "code",
   "execution_count": 4,
   "id": "0a743b22-bc10-4f76-b3d6-1bafa7d3aef9",
   "metadata": {},
   "outputs": [],
   "source": [
    "# Net total amount of Profit/Losses over the entire period \n",
    "\n",
    "df_net_total = df['Profit/Losses'].sum()"
   ]
  },
  {
   "cell_type": "code",
   "execution_count": 5,
   "id": "a929e68f-3de0-4b25-a1d7-72e8c9f60d3c",
   "metadata": {},
   "outputs": [],
   "source": [
    "# Average of the changes in Profit/Losses over the entire period \n",
    "\n",
    "df_diff = df['Profit/Losses'].diff()           # Calculate difference between values \n",
    "df_diff.abs()                                  # Absolute values \n",
    "df_diff_count = df_diff.count()                # Count number of entries \n",
    "df_diff_total = df_diff.sum()                  # Count total \n",
    "df_diff_avg = df_diff_total / df_diff_count    # Calculate Average \n",
    "df_diff_avg = round(df_diff_avg,2)             # Round Average "
   ]
  },
  {
   "cell_type": "code",
   "execution_count": 6,
   "id": "ffd9ba4d-b819-4ec7-ba8f-b690007703cf",
   "metadata": {},
   "outputs": [],
   "source": [
    "# The greatest increase in profits (date and amount) over the time period. \n",
    "\n",
    "df_max = 0\n",
    "df_min = 0\n",
    "max_index = 0\n",
    "min_index = 0 \n",
    "count = 0 \n",
    "\n",
    "df_diff2 = df_diff.fillna(0)     # Fill NaN value(s)\n",
    "\n",
    "for i in df_diff2:               # Set Max and Min values, and index via a count \n",
    "    int(i)\n",
    "    if i > df_max:\n",
    "        max_index = count \n",
    "        df_max = i  \n",
    "        count += 1\n",
    "    elif i < df_min:\n",
    "        min_index = count \n",
    "        df_min = i\n",
    "        count += 1\n",
    "    else: \n",
    "        count += 1\n",
    "        \n",
    "\n",
    "df_max = int(df_max)      # Remove Decimal Place \n",
    "df_min = int(df_min)\n",
    "\n",
    "\n",
    "# Set date of max and min \n",
    "df_date = df[\"Date\"]\n",
    "max_date = df_date[max_index]\n",
    "min_date = df_date[min_index]"
   ]
  },
  {
   "cell_type": "code",
   "execution_count": 7,
   "id": "37bd4c77-dba4-4a95-a56b-bffc740062dd",
   "metadata": {},
   "outputs": [
    {
     "name": "stdout",
     "output_type": "stream",
     "text": [
      "\n",
      "Financial Analysis\n",
      "----------------------------\n",
      "Total Months:86\n",
      "Total: $38382578\n",
      "Average Change: $-2315.12\n",
      "Greatest Increase in Profits: Feb-2012 ($1926159)\n",
      "Greatest Increase in Profits: Sep-2013 ($-2196167)\n"
     ]
    }
   ],
   "source": [
    "# Final Printouts \n",
    "print()\n",
    "print(\"Financial Analysis\")\n",
    "#print(\"----------------------------\")\n",
    "print(\"-\"*28)\n",
    "df_count = str(df_count)\n",
    "string_df_count = 'Total Months:'+df_count\n",
    "# print(\"Total Months:\"+df_count)\n",
    "print(string_df_count)\n",
    "df_net_total = str(df_net_total)\n",
    "# print(f\"Total: $\"+df_net_total)\n",
    "string_df_net_total = f\"Total: $\"+df_net_total\n",
    "print(string_df_net_total)\n",
    "df_diff_avg = str(df_diff_avg)\n",
    "string_df_diff_avg = f\"Average Change: $\"+df_diff_avg\n",
    "print(string_df_diff_avg)\n",
    "\n",
    "df_max = str(df_max)      # Make string for formatting \n",
    "df_min = str(df_min)\n",
    "\n",
    "string_df_max= f\"Greatest Increase in Profits: \"+max_date+\" ($\"+df_max+\")\"\n",
    "print(string_df_max)\n",
    "string_df_min= f\"Greatest Increase in Profits: \"+min_date+\" ($\"+df_min+\")\"\n",
    "print(string_df_min)\n"
   ]
  },
  {
   "cell_type": "code",
   "execution_count": 8,
   "id": "b0baf8d1-51c2-4ad8-9e9f-4699df8a02a2",
   "metadata": {},
   "outputs": [],
   "source": [
    "output_path = Path(\"output.txt\")\n",
    "with open(output_path, 'w') as file: \n",
    "    file.write(\"Financial Analysis\\n\")\n",
    "    file.write(\"----------------------------\\n\")\n",
    "    file.write(string_df_count)\n",
    "    file.write(\"\\n\")\n",
    "    file.write(string_df_net_total)\n",
    "    file.write(\"\\n\")\n",
    "    file.write(string_df_diff_avg)\n",
    "    file.write(\"\\n\")\n",
    "    file.write(string_df_max)\n",
    "    file.write(\"\\n\")\n",
    "    file.write(string_df_min)\n"
   ]
  },
  {
   "cell_type": "code",
   "execution_count": null,
   "id": "863353fa-e403-4083-9670-5762b7a5de87",
   "metadata": {},
   "outputs": [],
   "source": []
  }
 ],
 "metadata": {
  "kernelspec": {
   "display_name": "Python 3",
   "language": "python",
   "name": "python3"
  },
  "language_info": {
   "codemirror_mode": {
    "name": "ipython",
    "version": 3
   },
   "file_extension": ".py",
   "mimetype": "text/x-python",
   "name": "python",
   "nbconvert_exporter": "python",
   "pygments_lexer": "ipython3",
   "version": "3.8.8"
  }
 },
 "nbformat": 4,
 "nbformat_minor": 5
}
