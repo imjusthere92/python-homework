{
 "cells": [
  {
   "cell_type": "code",
   "execution_count": 1,
   "id": "47c8ea91-ccaf-4dec-ba51-a65de05330e8",
   "metadata": {},
   "outputs": [],
   "source": [
    "# Import Dependencies \n",
    "import csv\n",
    "import pandas as pd\n",
    "from pathlib import Path"
   ]
  },
  {
   "cell_type": "code",
   "execution_count": 2,
   "id": "5be7cde1-dcc4-49ab-9052-2fa4715c3439",
   "metadata": {},
   "outputs": [],
   "source": [
    "# Read CSV files and create Dataframes \n",
    "csv_path_menu = Path('../Resources/menu_data.csv')\n",
    "csv_path_sales = Path('../Resources/sales_data.csv')\n",
    "df_m = pd.read_csv(csv_path_menu)\n",
    "df_s = pd.read_csv(csv_path_sales)"
   ]
  },
  {
   "cell_type": "code",
   "execution_count": 3,
   "id": "06016443-af47-4b91-9f0f-472ad8cedc98",
   "metadata": {},
   "outputs": [],
   "source": [
    "# Read the data - expanded \n",
    "# Initialize Empty [menu] list object to hold the contents of menu_data.csv \n",
    "menu_list = [] \n",
    "\n",
    "# Use a with statement and open the menu_data.csv by using its file path \n",
    "with open(csv_path_menu, 'r') as csvfile:\n",
    "    # Use the reader function to begin reading menu_data.csv \n",
    "    csvreader = csv.reader(csvfile,delimiter = ',')\n",
    "    \n",
    "    # Use the next function to skip the header \n",
    "    header = next(csvreader)\n",
    "    \n",
    "    # Loop over the rest of the rows and append every row to the menu list object \n",
    "    for row in csvreader: \n",
    "        menu_list.append(row)"
   ]
  },
  {
   "cell_type": "code",
   "execution_count": 4,
   "id": "2c019ce8-36bc-4319-b93c-824fd8dbf930",
   "metadata": {},
   "outputs": [],
   "source": [
    "# Repeat process for Sales Data \n",
    "# Initialize Empty [sales] list object to hold the contents of sales_data.csv \n",
    "sales_list = [] \n",
    "\n",
    "# Use a with statement and open the sales_data.csv by using its file path \n",
    "with open(csv_path_sales, 'r') as csvfile:\n",
    "    # Use the reader function to begin reading menu_data.csv \n",
    "    csvreader = csv.reader(csvfile,delimiter = ',')\n",
    "    \n",
    "    # Use the next function to skip the header \n",
    "    header = next(csvreader)\n",
    "    \n",
    "    # Loop over the rest of the rows and append every row to the sales list object \n",
    "    for row in csvreader: \n",
    "        sales_list.append(row)"
   ]
  },
  {
   "cell_type": "code",
   "execution_count": 5,
   "id": "935b8440-8558-4e06-bb9e-107e572d541b",
   "metadata": {},
   "outputs": [],
   "source": [
    "# Manipulate the data \n",
    "\n",
    "# Initialize an empty 'report' dictionary to hold the future aggregared per-product results\n",
    "# The report dictionary will evnetually contain the following metrics: \n",
    "# 01-count: the total quantity for each ramen type\n",
    "# 02-revenue: the total revenue for each ramen type\n",
    "# 03-cogs: the total cost of goods sold for each ramen type\n",
    "# 04-profit: the total profit for each ramen type\n",
    "\n",
    "report = {}"
   ]
  },
  {
   "cell_type": "code",
   "execution_count": 9,
   "id": "866ef39d-28b3-4fb2-bf23-66114516944b",
   "metadata": {},
   "outputs": [],
   "source": [
    "# Then, loop through every row in the sales list object \n",
    "row_count = 0\n",
    "for row in sales_list:\n",
    "    quantity = row[3]\n",
    "    sales_item = row[4]\n",
    "    \n",
    "    report = {'sales_data': {\n",
    "        \"01-count\": 0,\n",
    "        \"02-revenue\": 0,\n",
    "        \"03-cogs\": 0,\n",
    "        \"04-profit\": 0,\n",
    "    }}\n",
    "    \n",
    "    if sales_item != report[row_count]:\n",
    "        report[sales_item] = "
   ]
  },
  {
   "cell_type": "code",
   "execution_count": 8,
   "id": "48d0ab67-fbdb-4e93-b799-399b0e8800a5",
   "metadata": {},
   "outputs": [
    {
     "name": "stdout",
     "output_type": "stream",
     "text": [
      "2\n",
      "spicy miso ramen\n"
     ]
    }
   ],
   "source": []
  }
 ],
 "metadata": {
  "kernelspec": {
   "display_name": "Python 3",
   "language": "python",
   "name": "python3"
  },
  "language_info": {
   "codemirror_mode": {
    "name": "ipython",
    "version": 3
   },
   "file_extension": ".py",
   "mimetype": "text/x-python",
   "name": "python",
   "nbconvert_exporter": "python",
   "pygments_lexer": "ipython3",
   "version": "3.8.8"
  }
 },
 "nbformat": 4,
 "nbformat_minor": 5
}
